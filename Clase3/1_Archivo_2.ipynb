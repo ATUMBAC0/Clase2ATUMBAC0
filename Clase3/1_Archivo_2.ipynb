{
 "cells": [
  {
   "cell_type": "markdown",
   "metadata": {},
   "source": [
    "CODIGO PYTHON\n"
   ]
  },
  {
   "cell_type": "code",
   "execution_count": 37,
   "metadata": {},
   "outputs": [
    {
     "name": "stdout",
     "output_type": "stream",
     "text": [
      "['a', 'b']\n"
     ]
    }
   ],
   "source": [
    "# variable=8\n",
    "# variable_dos= \"texto dos\"\n",
    "# print(variable_dos)\n",
    "# my_string=\"thisStringisAwesome\"\n",
    "# print(my_string)\n",
    "my_string=\"thisStringisAwesome\"\n",
    "my_string_dos=\"texto dos \"\n",
    "\n",
    "my_string.upper()\n",
    "my_string.lower()\n",
    "my_string.count(\"t\")\n",
    "my_string.replace(\"S\",\"s\")\n",
    "\n",
    "#concatenar textos \n",
    "my_string + my_string_dos\n",
    "\n",
    "# buscar  true / false\n",
    "\"2\" in my_string\n",
    "\n",
    "#lista\n",
    "lista = [\"a\",\"b\",1.5]\n",
    "\n",
    "#print(type(lista[1]))\n",
    "##print(type(lista[0:1]))\n",
    "\n",
    "print(lista[0:2])\n"
   ]
  },
  {
   "cell_type": "code",
   "execution_count": null,
   "metadata": {},
   "outputs": [],
   "source": []
  }
 ],
 "metadata": {
  "kernelspec": {
   "display_name": "Python 3",
   "language": "python",
   "name": "python3"
  },
  "language_info": {
   "codemirror_mode": {
    "name": "ipython",
    "version": 3
   },
   "file_extension": ".py",
   "mimetype": "text/x-python",
   "name": "python",
   "nbconvert_exporter": "python",
   "pygments_lexer": "ipython3",
   "version": "3.12.2"
  }
 },
 "nbformat": 4,
 "nbformat_minor": 2
}
